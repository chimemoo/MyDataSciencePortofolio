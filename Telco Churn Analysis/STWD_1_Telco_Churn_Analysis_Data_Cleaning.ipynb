{
  "nbformat": 4,
  "nbformat_minor": 0,
  "metadata": {
    "colab": {
      "name": "STWD 1 - Telco Churn Analysis - Data Cleaning.ipynb",
      "provenance": [],
      "collapsed_sections": [],
      "authorship_tag": "ABX9TyM5S1ENMQROk0b92YCvcH5E"
    },
    "kernelspec": {
      "name": "python3",
      "display_name": "Python 3"
    }
  },
  "cells": [
    {
      "cell_type": "markdown",
      "metadata": {
        "id": "O76C2CzaOs0k",
        "colab_type": "text"
      },
      "source": [
        "# Story Teling With Data 1\n",
        "## Data Cleaning For Telco (DQlab Weekend Challange)\n",
        "Dataset Resource : 'https://dqlab-dataset.s3-ap-southeast-1.amazonaws.com/dqlab_telco.csv'"
      ]
    },
    {
      "cell_type": "markdown",
      "metadata": {
        "id": "s0ZAUht_mJvX",
        "colab_type": "text"
      },
      "source": [
        "**Story** :  \n",
        "DQLab Telco merupakan perusahaan Telco yang sudah mempunyai banyak cabang tersebar dimana-mana. Sejak berdiri pada tahun 2019, DQLab Telco konsisten untuk memperhatikan customer experience nya sehingga tidak akan di tinggalkan pelanggan. Walaupun baru berumur 1 tahun lebih sedikit, DQLab Telco sudah mempunyai banyak pelanggan yang beralih **langganan ke kompetitior**. Pihak management ingin **mengurangi** jumlah pelanggan yang **beralih (churn)** dengan menggunakan machine learning. Oleh karena itu, tim Data Scientist diminta untuk mempersiapkan data sekaligus membuat **model prediksi** yang tepat untuk menentukan pelanggan akan **berhenti berlangganan (churn) atau tidak."
      ]
    },
    {
      "cell_type": "code",
      "metadata": {
        "id": "duD94vqTNZVE",
        "colab_type": "code",
        "colab": {
          "base_uri": "https://localhost:8080/",
          "height": 71
        },
        "outputId": "15d774ad-e142-475d-c92c-d39c3e79f3a6"
      },
      "source": [
        "# Import library\n",
        "import pandas as pd\n",
        "import numpy as np\n",
        "import matplotlib.pyplot as plt\n",
        "import seaborn as sns\n",
        "%matplotlib inline"
      ],
      "execution_count": 1,
      "outputs": [
        {
          "output_type": "stream",
          "text": [
            "/usr/local/lib/python3.6/dist-packages/statsmodels/tools/_testing.py:19: FutureWarning: pandas.util.testing is deprecated. Use the functions in the public API at pandas.testing instead.\n",
            "  import pandas.util.testing as tm\n"
          ],
          "name": "stderr"
        }
      ]
    },
    {
      "cell_type": "code",
      "metadata": {
        "id": "W7J7ueIzm36F",
        "colab_type": "code",
        "colab": {}
      },
      "source": [
        "# Load Dataset\n",
        "dataset = pd.read_csv('https://dqlab-dataset.s3-ap-southeast-1.amazonaws.com/dqlab_telco.csv');"
      ],
      "execution_count": 2,
      "outputs": []
    },
    {
      "cell_type": "code",
      "metadata": {
        "id": "xDBw5I51nB9K",
        "colab_type": "code",
        "colab": {
          "base_uri": "https://localhost:8080/",
          "height": 292
        },
        "outputId": "e8a16578-3242-4282-d1f0-f73c89d942e6"
      },
      "source": [
        "# Menampilkan tabel 5 Data teratas dari dataset\n",
        "dataset.head()"
      ],
      "execution_count": 3,
      "outputs": [
        {
          "output_type": "execute_result",
          "data": {
            "text/html": [
              "<div>\n",
              "<style scoped>\n",
              "    .dataframe tbody tr th:only-of-type {\n",
              "        vertical-align: middle;\n",
              "    }\n",
              "\n",
              "    .dataframe tbody tr th {\n",
              "        vertical-align: top;\n",
              "    }\n",
              "\n",
              "    .dataframe thead th {\n",
              "        text-align: right;\n",
              "    }\n",
              "</style>\n",
              "<table border=\"1\" class=\"dataframe\">\n",
              "  <thead>\n",
              "    <tr style=\"text-align: right;\">\n",
              "      <th></th>\n",
              "      <th>UpdatedAt</th>\n",
              "      <th>customerID</th>\n",
              "      <th>gender</th>\n",
              "      <th>SeniorCitizen</th>\n",
              "      <th>Partner</th>\n",
              "      <th>Dependents</th>\n",
              "      <th>tenure</th>\n",
              "      <th>PhoneService</th>\n",
              "      <th>MultipleLines</th>\n",
              "      <th>InternetService</th>\n",
              "      <th>OnlineSecurity</th>\n",
              "      <th>OnlineBackup</th>\n",
              "      <th>DeviceProtection</th>\n",
              "      <th>TechSupport</th>\n",
              "      <th>StreamingTV</th>\n",
              "      <th>StreamingMovies</th>\n",
              "      <th>Contract</th>\n",
              "      <th>PaperlessBilling</th>\n",
              "      <th>PaymentMethod</th>\n",
              "      <th>MonthlyCharges</th>\n",
              "      <th>TotalCharges</th>\n",
              "      <th>Churn</th>\n",
              "    </tr>\n",
              "  </thead>\n",
              "  <tbody>\n",
              "    <tr>\n",
              "      <th>0</th>\n",
              "      <td>202006</td>\n",
              "      <td>45759018157</td>\n",
              "      <td>Female</td>\n",
              "      <td>0</td>\n",
              "      <td>Yes</td>\n",
              "      <td>No</td>\n",
              "      <td>1.0</td>\n",
              "      <td>No</td>\n",
              "      <td>No phone service</td>\n",
              "      <td>DSL</td>\n",
              "      <td>No</td>\n",
              "      <td>Yes</td>\n",
              "      <td>No</td>\n",
              "      <td>No</td>\n",
              "      <td>No</td>\n",
              "      <td>No</td>\n",
              "      <td>Month-to-month</td>\n",
              "      <td>Yes</td>\n",
              "      <td>Electronic check</td>\n",
              "      <td>29.85</td>\n",
              "      <td>29.85</td>\n",
              "      <td>No</td>\n",
              "    </tr>\n",
              "    <tr>\n",
              "      <th>1</th>\n",
              "      <td>202006</td>\n",
              "      <td>45557574145</td>\n",
              "      <td>Male</td>\n",
              "      <td>0</td>\n",
              "      <td>No</td>\n",
              "      <td>No</td>\n",
              "      <td>34.0</td>\n",
              "      <td>Yes</td>\n",
              "      <td>No</td>\n",
              "      <td>DSL</td>\n",
              "      <td>Yes</td>\n",
              "      <td>No</td>\n",
              "      <td>Yes</td>\n",
              "      <td>No</td>\n",
              "      <td>No</td>\n",
              "      <td>No</td>\n",
              "      <td>One year</td>\n",
              "      <td>No</td>\n",
              "      <td>Mailed check</td>\n",
              "      <td>56.95</td>\n",
              "      <td>1889.50</td>\n",
              "      <td>No</td>\n",
              "    </tr>\n",
              "    <tr>\n",
              "      <th>2</th>\n",
              "      <td>202006</td>\n",
              "      <td>45366876421</td>\n",
              "      <td>Male</td>\n",
              "      <td>0</td>\n",
              "      <td>No</td>\n",
              "      <td>No</td>\n",
              "      <td>2.0</td>\n",
              "      <td>Yes</td>\n",
              "      <td>No</td>\n",
              "      <td>DSL</td>\n",
              "      <td>Yes</td>\n",
              "      <td>Yes</td>\n",
              "      <td>No</td>\n",
              "      <td>No</td>\n",
              "      <td>No</td>\n",
              "      <td>No</td>\n",
              "      <td>Month-to-month</td>\n",
              "      <td>Yes</td>\n",
              "      <td>Mailed check</td>\n",
              "      <td>53.85</td>\n",
              "      <td>108.15</td>\n",
              "      <td>Yes</td>\n",
              "    </tr>\n",
              "    <tr>\n",
              "      <th>3</th>\n",
              "      <td>202006</td>\n",
              "      <td>45779536532</td>\n",
              "      <td>Male</td>\n",
              "      <td>0</td>\n",
              "      <td>No</td>\n",
              "      <td>No</td>\n",
              "      <td>45.0</td>\n",
              "      <td>No</td>\n",
              "      <td>No phone service</td>\n",
              "      <td>DSL</td>\n",
              "      <td>Yes</td>\n",
              "      <td>No</td>\n",
              "      <td>Yes</td>\n",
              "      <td>Yes</td>\n",
              "      <td>No</td>\n",
              "      <td>No</td>\n",
              "      <td>One year</td>\n",
              "      <td>No</td>\n",
              "      <td>Bank transfer (automatic)</td>\n",
              "      <td>42.30</td>\n",
              "      <td>1840.75</td>\n",
              "      <td>No</td>\n",
              "    </tr>\n",
              "    <tr>\n",
              "      <th>4</th>\n",
              "      <td>202006</td>\n",
              "      <td>45923787906</td>\n",
              "      <td>Female</td>\n",
              "      <td>0</td>\n",
              "      <td>No</td>\n",
              "      <td>No</td>\n",
              "      <td>2.0</td>\n",
              "      <td>Yes</td>\n",
              "      <td>No</td>\n",
              "      <td>Fiber optic</td>\n",
              "      <td>No</td>\n",
              "      <td>No</td>\n",
              "      <td>No</td>\n",
              "      <td>No</td>\n",
              "      <td>No</td>\n",
              "      <td>No</td>\n",
              "      <td>Month-to-month</td>\n",
              "      <td>Yes</td>\n",
              "      <td>Electronic check</td>\n",
              "      <td>70.70</td>\n",
              "      <td>151.65</td>\n",
              "      <td>Yes</td>\n",
              "    </tr>\n",
              "  </tbody>\n",
              "</table>\n",
              "</div>"
            ],
            "text/plain": [
              "   UpdatedAt   customerID  gender  ...  MonthlyCharges TotalCharges Churn\n",
              "0     202006  45759018157  Female  ...           29.85        29.85    No\n",
              "1     202006  45557574145    Male  ...           56.95      1889.50    No\n",
              "2     202006  45366876421    Male  ...           53.85       108.15   Yes\n",
              "3     202006  45779536532    Male  ...           42.30      1840.75    No\n",
              "4     202006  45923787906  Female  ...           70.70       151.65   Yes\n",
              "\n",
              "[5 rows x 22 columns]"
            ]
          },
          "metadata": {
            "tags": []
          },
          "execution_count": 3
        }
      ]
    },
    {
      "cell_type": "markdown",
      "metadata": {
        "id": "0TAwlhqkNd2e",
        "colab_type": "text"
      },
      "source": [
        "**Dataset Detail**  \n",
        "Berdasarkan tabel diatas, terdapat beberapa feature yang memiliki informasi detail sebagai berikut :  \n",
        "1. `UpdatedAt` Periode of Data taken  \n",
        "2. `customerID` Customer   \n",
        "3. `gender` Whether the customer is a male or a female (Male, Female)  \n",
        "4. `SeniorCitizen` Whether the customer is a senior citizen or not (1, 0)  \n",
        "5. `Partner` Whether the customer has a partner or not (Yes, No)  \n",
        "6. `Dependents` Whether the customer has dependents or not (Yes, No)  \n",
        "7. `tenure` Number of months the customer has stayed with the company  \n",
        "8. `PhoneServic` Whether the customer has a phone service or not (Yes, No)  \n",
        "9. `MultipleLines` Whether the customer has multiple lines or not (Yes, No, No phone service)  \n",
        "10. `InternetService` Customer’s internet service provider (DSL, Fiber optic, No)  \n",
        "11. `OnlineSecurity` Whether the customer has online security or not (Yes, No, No internet service)  \n",
        "12. `OnlineBackup` Whether the customer has online backup or not (Yes, No, No internet service)  \n",
        "13. `DeviceProtection` Whether the customer has device protection or not (Yes, No, No internet service)  \n",
        "14. `TechSupport` Whether the customer has tech support or not (Yes, No, No internet service)  \n",
        "15. `StreamingTV` Whether the customer has streaming TV or not (Yes, No, No internet service)  \n",
        "16. `StreamingMovies` Whether the customer has streaming movies or not (Yes, No, No internet service)  \n",
        "17. `Contract` The contract term of the customer (Month-to-month, One year, Two year)  \n",
        "18. `PaperlessBilling` Whether the customer has paperless billing or not (Yes, No)  \n",
        "19. `PaymentMethod` The customer’s payment method (Electronic check, Mailed check, Bank transfer (automatic), Credit card (automatic))  \n",
        "20. `MonthlyCharges` The amount charged to the customer monthly  \n",
        "21. `TotalCharges` The total amount charged to the customer\n",
        "22. `Churn` Whether the customer churned or not (Yes or No)  "
      ]
    },
    {
      "cell_type": "markdown",
      "metadata": {
        "id": "aMQbabz9Q3H1",
        "colab_type": "text"
      },
      "source": [
        "## a. Mengecek dan Mengatasi data duplikat\n",
        "Dikarenakan kita akan menganalisis apakah customer akan beralih/pergi menggunakan layanan kompetitor, sangat penting untuk memvalidasi data customer pada dataset. Mengecek apakah terdapat data yang duplikat berdasarkan customerID dan jika duplikat perlu dilihat lagi apakah benar-benar sama atau bisa jadi kesalahan ketika pengumpulan data."
      ]
    },
    {
      "cell_type": "code",
      "metadata": {
        "id": "_wMEoZcv-0cg",
        "colab_type": "code",
        "colab": {
          "base_uri": "https://localhost:8080/",
          "height": 51
        },
        "outputId": "d7b96a9e-2946-45ec-fba0-e2f81b8c01c9"
      },
      "source": [
        "# Mendapatkan jumlah baris dan kolom pada data\n",
        "print('Jumlah baris : ', dataset.shape[0])\n",
        "print('Jumlah kolom : ', dataset.shape[1])"
      ],
      "execution_count": 4,
      "outputs": [
        {
          "output_type": "stream",
          "text": [
            "Jumlah baris :  7113\n",
            "Jumlah kolom :  22\n"
          ],
          "name": "stdout"
        }
      ]
    },
    {
      "cell_type": "code",
      "metadata": {
        "id": "4AhNoUzlPsSG",
        "colab_type": "code",
        "colab": {
          "base_uri": "https://localhost:8080/",
          "height": 34
        },
        "outputId": "f9baecc2-0925-447a-c7d9-9331ed5036e2"
      },
      "source": [
        "# Mendapatkan jumlah customer yang unik unik berdasarkan kolom customerID\n",
        "print('Jumlah data: ', len(dataset.customerID.unique()))"
      ],
      "execution_count": 5,
      "outputs": [
        {
          "output_type": "stream",
          "text": [
            "Jumlah data:  7017\n"
          ],
          "name": "stdout"
        }
      ]
    },
    {
      "cell_type": "markdown",
      "metadata": {
        "id": "kTOgUWSiRq9W",
        "colab_type": "text"
      },
      "source": [
        "Berdasarkan informasi diatas jumlah total data/baris adalah 7113 namun untuk jumlah customerID yang unik 7017 oleh karena bisa diambil kesimpulan bahwa terdapat data duplikat dari dataset yang ada. Oleh karena itu perlu dilakukan analisis lagi untuk mengetahui id customer mana saja yang valid."
      ]
    },
    {
      "cell_type": "code",
      "metadata": {
        "id": "9M_htTVfQUSy",
        "colab_type": "code",
        "colab": {
          "base_uri": "https://localhost:8080/",
          "height": 309
        },
        "outputId": "bb89cd36-f606-4ddf-f968-bc5c38a1179f"
      },
      "source": [
        "# Mendapatkan data yang duplikat berdasarkan customerID\n",
        "duplicated_data = dataset[dataset.duplicated(['customerID'])]\n",
        "duplicated_data.head()"
      ],
      "execution_count": 6,
      "outputs": [
        {
          "output_type": "execute_result",
          "data": {
            "text/html": [
              "<div>\n",
              "<style scoped>\n",
              "    .dataframe tbody tr th:only-of-type {\n",
              "        vertical-align: middle;\n",
              "    }\n",
              "\n",
              "    .dataframe tbody tr th {\n",
              "        vertical-align: top;\n",
              "    }\n",
              "\n",
              "    .dataframe thead th {\n",
              "        text-align: right;\n",
              "    }\n",
              "</style>\n",
              "<table border=\"1\" class=\"dataframe\">\n",
              "  <thead>\n",
              "    <tr style=\"text-align: right;\">\n",
              "      <th></th>\n",
              "      <th>UpdatedAt</th>\n",
              "      <th>customerID</th>\n",
              "      <th>gender</th>\n",
              "      <th>SeniorCitizen</th>\n",
              "      <th>Partner</th>\n",
              "      <th>Dependents</th>\n",
              "      <th>tenure</th>\n",
              "      <th>PhoneService</th>\n",
              "      <th>MultipleLines</th>\n",
              "      <th>InternetService</th>\n",
              "      <th>OnlineSecurity</th>\n",
              "      <th>OnlineBackup</th>\n",
              "      <th>DeviceProtection</th>\n",
              "      <th>TechSupport</th>\n",
              "      <th>StreamingTV</th>\n",
              "      <th>StreamingMovies</th>\n",
              "      <th>Contract</th>\n",
              "      <th>PaperlessBilling</th>\n",
              "      <th>PaymentMethod</th>\n",
              "      <th>MonthlyCharges</th>\n",
              "      <th>TotalCharges</th>\n",
              "      <th>Churn</th>\n",
              "    </tr>\n",
              "  </thead>\n",
              "  <tbody>\n",
              "    <tr>\n",
              "      <th>151</th>\n",
              "      <td>202006</td>\n",
              "      <td>4.54E+11</td>\n",
              "      <td>Male</td>\n",
              "      <td>0</td>\n",
              "      <td>No</td>\n",
              "      <td>No</td>\n",
              "      <td>7.0</td>\n",
              "      <td>Yes</td>\n",
              "      <td>Yes</td>\n",
              "      <td>Fiber optic</td>\n",
              "      <td>No</td>\n",
              "      <td>No</td>\n",
              "      <td>No</td>\n",
              "      <td>No</td>\n",
              "      <td>Yes</td>\n",
              "      <td>Yes</td>\n",
              "      <td>Month-to-month</td>\n",
              "      <td>No</td>\n",
              "      <td>Mailed check</td>\n",
              "      <td>95.00</td>\n",
              "      <td>655.50</td>\n",
              "      <td>Yes</td>\n",
              "    </tr>\n",
              "    <tr>\n",
              "      <th>330</th>\n",
              "      <td>202006</td>\n",
              "      <td>4.59E+11</td>\n",
              "      <td>Female</td>\n",
              "      <td>0</td>\n",
              "      <td>Yes</td>\n",
              "      <td>Yes</td>\n",
              "      <td>35.0</td>\n",
              "      <td>Yes</td>\n",
              "      <td>No</td>\n",
              "      <td>No</td>\n",
              "      <td>No internet service</td>\n",
              "      <td>No internet service</td>\n",
              "      <td>No internet service</td>\n",
              "      <td>No internet service</td>\n",
              "      <td>No internet service</td>\n",
              "      <td>No internet service</td>\n",
              "      <td>Two year</td>\n",
              "      <td>Yes</td>\n",
              "      <td>Mailed check</td>\n",
              "      <td>19.85</td>\n",
              "      <td>739.35</td>\n",
              "      <td>No</td>\n",
              "    </tr>\n",
              "    <tr>\n",
              "      <th>406</th>\n",
              "      <td>202006</td>\n",
              "      <td>4.55E+11</td>\n",
              "      <td>Male</td>\n",
              "      <td>0</td>\n",
              "      <td>Yes</td>\n",
              "      <td>Yes</td>\n",
              "      <td>60.0</td>\n",
              "      <td>Yes</td>\n",
              "      <td>Yes</td>\n",
              "      <td>Fiber optic</td>\n",
              "      <td>Yes</td>\n",
              "      <td>No</td>\n",
              "      <td>Yes</td>\n",
              "      <td>No</td>\n",
              "      <td>Yes</td>\n",
              "      <td>No</td>\n",
              "      <td>One year</td>\n",
              "      <td>Yes</td>\n",
              "      <td>Bank transfer (automatic)</td>\n",
              "      <td>95.40</td>\n",
              "      <td>5812.00</td>\n",
              "      <td>No</td>\n",
              "    </tr>\n",
              "    <tr>\n",
              "      <th>417</th>\n",
              "      <td>202006</td>\n",
              "      <td>4.55E+11</td>\n",
              "      <td>Female</td>\n",
              "      <td>0</td>\n",
              "      <td>Yes</td>\n",
              "      <td>Yes</td>\n",
              "      <td>40.0</td>\n",
              "      <td>Yes</td>\n",
              "      <td>Yes</td>\n",
              "      <td>No</td>\n",
              "      <td>No internet service</td>\n",
              "      <td>No internet service</td>\n",
              "      <td>No internet service</td>\n",
              "      <td>No internet service</td>\n",
              "      <td>No internet service</td>\n",
              "      <td>No internet service</td>\n",
              "      <td>Two year</td>\n",
              "      <td>Yes</td>\n",
              "      <td>Mailed check</td>\n",
              "      <td>24.80</td>\n",
              "      <td>1024.70</td>\n",
              "      <td>No</td>\n",
              "    </tr>\n",
              "    <tr>\n",
              "      <th>564</th>\n",
              "      <td>202006</td>\n",
              "      <td>4.57E+11</td>\n",
              "      <td>Male</td>\n",
              "      <td>0</td>\n",
              "      <td>No</td>\n",
              "      <td>No</td>\n",
              "      <td>7.0</td>\n",
              "      <td>Yes</td>\n",
              "      <td>No</td>\n",
              "      <td>DSL</td>\n",
              "      <td>No</td>\n",
              "      <td>No</td>\n",
              "      <td>Yes</td>\n",
              "      <td>Yes</td>\n",
              "      <td>Yes</td>\n",
              "      <td>No</td>\n",
              "      <td>Month-to-month</td>\n",
              "      <td>No</td>\n",
              "      <td>Bank transfer (automatic)</td>\n",
              "      <td>64.30</td>\n",
              "      <td>445.95</td>\n",
              "      <td>No</td>\n",
              "    </tr>\n",
              "  </tbody>\n",
              "</table>\n",
              "</div>"
            ],
            "text/plain": [
              "     UpdatedAt customerID  gender  ...  MonthlyCharges TotalCharges Churn\n",
              "151     202006   4.54E+11    Male  ...           95.00       655.50   Yes\n",
              "330     202006   4.59E+11  Female  ...           19.85       739.35    No\n",
              "406     202006   4.55E+11    Male  ...           95.40      5812.00    No\n",
              "417     202006   4.55E+11  Female  ...           24.80      1024.70    No\n",
              "564     202006   4.57E+11    Male  ...           64.30       445.95    No\n",
              "\n",
              "[5 rows x 22 columns]"
            ]
          },
          "metadata": {
            "tags": []
          },
          "execution_count": 6
        }
      ]
    },
    {
      "cell_type": "code",
      "metadata": {
        "id": "eiiL44F5Yqbk",
        "colab_type": "code",
        "colab": {
          "base_uri": "https://localhost:8080/",
          "height": 34
        },
        "outputId": "4d38a695-aa19-409d-faf8-77996fee0d9e"
      },
      "source": [
        "print('Jumlah data yang duplikat : ', duplicated_data.shape[0])"
      ],
      "execution_count": 7,
      "outputs": [
        {
          "output_type": "stream",
          "text": [
            "Jumlah data yang duplikat :  96\n"
          ],
          "name": "stdout"
        }
      ]
    },
    {
      "cell_type": "markdown",
      "metadata": {
        "id": "g-9d9kkaTjcd",
        "colab_type": "text"
      },
      "source": [
        "Berdasarkan tabel diatas dapat diketahui bahwa terdapat 96 data duplikat, yang dimana jika kita mengurangi antara total baris data dikurangi jumlah data yang unik berdasarkan customer hasilnya sama yaitu 96. Namun total 7017 data tersebut adalah data yang hanya dikurangi data duplikatnya. Misalnya customerID 45961764656 ada dua baris pada dataset namun yang di hitung hanya yang awal sementara antara data yang awal dan akhir belum tentu sama persis, oleh karena itu kita akan menghapus semua data yang duplikat karena data tersebut dianggap tidak valid."
      ]
    },
    {
      "cell_type": "code",
      "metadata": {
        "id": "ShmyNTn7U9Uk",
        "colab_type": "code",
        "colab": {}
      },
      "source": [
        "# Menghapus semua data yang duplikat berdasarkan kolom customerID dengan tidak\n",
        "# mempertahankan datanya. Semuanya data duplikat dihapus.\n",
        "dataset = dataset.drop_duplicates(['customerID'], keep = False)"
      ],
      "execution_count": 8,
      "outputs": []
    },
    {
      "cell_type": "markdown",
      "metadata": {
        "id": "gti2eQw6ZY1r",
        "colab_type": "text"
      },
      "source": [
        "## b. Mengecek dan Mengatasi Missing Value\n",
        "Missing value dalam dunia data merupakan hal yang lumrah, sehingga tahapan ini akan selalu ada untuk mengantisipasi adanya missing value yang mungkin akan mempengaruhi hasil analisis/model yang akan dibuat."
      ]
    },
    {
      "cell_type": "code",
      "metadata": {
        "id": "s5EJMT3RW4Mv",
        "colab_type": "code",
        "colab": {
          "base_uri": "https://localhost:8080/",
          "height": 408
        },
        "outputId": "8d3833d7-0ded-4e7f-eaf8-3f6c09828a55"
      },
      "source": [
        "# Mendapatkan jumlah data missing value per kolom/atribut\n",
        "dataset.isna().sum()"
      ],
      "execution_count": 9,
      "outputs": [
        {
          "output_type": "execute_result",
          "data": {
            "text/plain": [
              "UpdatedAt            0\n",
              "customerID           0\n",
              "gender               0\n",
              "SeniorCitizen        0\n",
              "Partner              0\n",
              "Dependents           0\n",
              "tenure              99\n",
              "PhoneService         0\n",
              "MultipleLines        0\n",
              "InternetService      0\n",
              "OnlineSecurity       0\n",
              "OnlineBackup         0\n",
              "DeviceProtection     0\n",
              "TechSupport          0\n",
              "StreamingTV          0\n",
              "StreamingMovies      0\n",
              "Contract             0\n",
              "PaperlessBilling     0\n",
              "PaymentMethod        0\n",
              "MonthlyCharges      26\n",
              "TotalCharges        15\n",
              "Churn               43\n",
              "dtype: int64"
            ]
          },
          "metadata": {
            "tags": []
          },
          "execution_count": 9
        }
      ]
    },
    {
      "cell_type": "markdown",
      "metadata": {
        "id": "s6LrfYdv2Zo1",
        "colab_type": "text"
      },
      "source": [
        "Berdasarkan hasil diatas diketahui terdapat **missing value** pada atribut/kolom tenure, MonthlyCharges, TotalCharges dan Churn. Untuk menangani missing value sebenarnya ada tiga cara yaitu mengabaikan, menghapus data nya atau mengisi datanya (imputasi). Pada analisis ini karena saya akan berfokus pada data preprocessing oleh karena itu kita akan mencoba untuk melakukan imputasi.  \n",
        "\n",
        "Imputasi merupakan teknik mengisi nilai yang hilang (missing) pada dataset. Untuk mengisi nilainya tidak lah selalu sama tergantung data apa yang hilang. Berdasarkan detail dataset tenure, MonthlyCharges dan TotalCharges merupakan data yang bersifat continue oleh karena itu kita dapat melakukan imputasi menggunakan mean/median, zeros imputation, hot deck imputation, cold deck imputation, regression imputation, stohastic regression dan lainnya (Lihat di : https://medium.com/@vinitasilaparasetty/guide-to-handling-missing-values-in-data-science-37d62edbfdc1).  \n",
        "\n",
        "Pada **Story Teling With Data** ini saya akan mencoba yang sederhana yaitu menggunakan Mean/Median.  \n",
        "Sementara itu untuk atribut/kolom Churn karena bersifat kategorikal, maka penanganan imputasinya berbeda, untuk pembahasan ini saya akan coba menggunakan **most frequently value**."
      ]
    },
    {
      "cell_type": "markdown",
      "metadata": {
        "id": "Z-jTHQTv9PWn",
        "colab_type": "text"
      },
      "source": [
        "Sebelum menentukan untuk menggunakan Mean atau Median. Sebelumnya perlu diketahui terlebih dahulu apakah terdapat outliers pada data. Jika di dapatkan outliers disarankan lebih baik menggunakan Median (https://chimemoo.github.io/posts/learning-statistics-using-r-for-data-science/)."
      ]
    },
    {
      "cell_type": "code",
      "metadata": {
        "id": "tuw4WGID65an",
        "colab_type": "code",
        "colab": {
          "base_uri": "https://localhost:8080/",
          "height": 325
        },
        "outputId": "516a7fb8-5f5d-47f1-b1f7-3f5538e6e6a8"
      },
      "source": [
        "fig, axs = plt.subplots(3)\n",
        "fig.suptitle('Boxplot')\n",
        "sns.boxplot(x=dataset['tenure'], ax=axs[0])\n",
        "sns.boxplot(x=dataset['MonthlyCharges'], ax=axs[1])\n",
        "sns.boxplot(x=dataset['TotalCharges'], ax=axs[2])"
      ],
      "execution_count": 10,
      "outputs": [
        {
          "output_type": "execute_result",
          "data": {
            "text/plain": [
              "<matplotlib.axes._subplots.AxesSubplot at 0x7f1360199208>"
            ]
          },
          "metadata": {
            "tags": []
          },
          "execution_count": 10
        },
        {
          "output_type": "display_data",
          "data": {
            "image/png": "[encoded data removed]",
            "text/plain": [
              "<Figure size 432x288 with 3 Axes>"
            ]
          },
          "metadata": {
            "tags": [],
            "needs_background": "light"
          }
        }
      ]
    },
    {
      "cell_type": "markdown",
      "metadata": {
        "id": "2YfF3mnuLyq0",
        "colab_type": "text"
      },
      "source": [
        "Berdasarkan Boxplot diatas diketahui bahwa terdapat outlier yang sangat jauh, sehingga jika kita mengambil nilai Mean tidak akan mencerminkan nilai tengahnya. Oleh karena itu akan digunakan nilai Median untuk mengimputasi missing valuenya."
      ]
    },
    {
      "cell_type": "code",
      "metadata": {
        "id": "7d0AHovkaS0J",
        "colab_type": "code",
        "colab": {
          "base_uri": "https://localhost:8080/",
          "height": 136
        },
        "outputId": "d92319c0-393c-4304-f9fe-9d712cdea46b"
      },
      "source": [
        "# Mendapatkan mean/median\n",
        "print('Mean : ')\n",
        "dataset.mean()"
      ],
      "execution_count": 11,
      "outputs": [
        {
          "output_type": "stream",
          "text": [
            "Mean : \n"
          ],
          "name": "stdout"
        },
        {
          "output_type": "execute_result",
          "data": {
            "text/plain": [
              "UpdatedAt         202006.000000\n",
              "SeniorCitizen          0.162019\n",
              "tenure                32.774006\n",
              "MonthlyCharges        65.808059\n",
              "TotalCharges        2308.116745\n",
              "dtype: float64"
            ]
          },
          "metadata": {
            "tags": []
          },
          "execution_count": 11
        }
      ]
    },
    {
      "cell_type": "code",
      "metadata": {
        "id": "HGg19oih8dxm",
        "colab_type": "code",
        "colab": {}
      },
      "source": [
        "# Imputasi dengan mengisi nilai na dengan median\n",
        "dataset['tenure'] = dataset['tenure'].replace(np.nan,dataset['tenure'].median())\n",
        "dataset['MonthlyCharges'] = dataset['MonthlyCharges'].replace(np.nan,dataset['MonthlyCharges'].median())\n",
        "dataset['TotalCharges'] = dataset['TotalCharges'].replace(np.nan,dataset['TotalCharges'].median())\n"
      ],
      "execution_count": 12,
      "outputs": []
    },
    {
      "cell_type": "markdown",
      "metadata": {
        "id": "1nAyc0KIRkMu",
        "colab_type": "text"
      },
      "source": [
        "Kemudian selanjutnya menangani imputasi pada data kategori yaitu, Churn. Hal pertama yang perlu dilakukan adalah melihat frekuensi jumlah pengguna yang churn atau tidak, hal ini ditujukan untuk menentukan nilai apa yang akan digunakan untuk mengisi nilai kolom Churn yang kosong."
      ]
    },
    {
      "cell_type": "code",
      "metadata": {
        "id": "Ko23R2cDRext",
        "colab_type": "code",
        "colab": {
          "base_uri": "https://localhost:8080/",
          "height": 285
        },
        "outputId": "751085dd-1e5d-4736-c36f-325d98a95dc8"
      },
      "source": [
        "sns.set(style=\"darkgrid\")\n",
        "ax = sns.countplot(x=\"Churn\", data=dataset)"
      ],
      "execution_count": 13,
      "outputs": [
        {
          "output_type": "display_data",
          "data": {
            "image/png": "[encoded data removed]",
            "text/plain": [
              "<Figure size 432x288 with 1 Axes>"
            ]
          },
          "metadata": {
            "tags": []
          }
        }
      ]
    },
    {
      "cell_type": "code",
      "metadata": {
        "id": "vuM65SmxOqA3",
        "colab_type": "code",
        "colab": {
          "base_uri": "https://localhost:8080/",
          "height": 85
        },
        "outputId": "6b56a948-455e-4423-f24c-237caf0d7890"
      },
      "source": [
        "dataset['Churn'].value_counts()"
      ],
      "execution_count": 14,
      "outputs": [
        {
          "output_type": "execute_result",
          "data": {
            "text/plain": [
              "No       5112\n",
              "Yes      1829\n",
              "Churn       9\n",
              "Name: Churn, dtype: int64"
            ]
          },
          "metadata": {
            "tags": []
          },
          "execution_count": 14
        }
      ]
    },
    {
      "cell_type": "markdown",
      "metadata": {
        "id": "j3iv_GzRTSwh",
        "colab_type": "text"
      },
      "source": [
        "Dari barplot dan hasil diatas diketahui terdapat 3 label, sementara dari detail dataset hanya ada 2 label yaitu Yes dan No. Hal ini bisa disebut inkonsisten oleh karena tidak sesuai. Namun jika melihat dari tujuan data adalah mengetahui cara memisahkan pengguna yang Churn maka label Churn bisa dianggap 'Yes'.  \n",
        "Selain itu berdasarkan jumlah frekuensi jumlah antara pengguna yang tidak Churn lebih banyak dari pada yang Churn. Jika kita melakukan imputasi pada data yang atribut Churn nya hilang dengan 'No' (Label terbanyak) kita akan semakin sulit untuk mendeteksi pelanggan yang akan Churn. Hal tersebut dikarenakan jumlah data yang kurang seimbang antar label. Oleh karena itu diputuskan untuk menghapus 43 data yang tidak memilki kelas target."
      ]
    },
    {
      "cell_type": "code",
      "metadata": {
        "id": "dNeTfxBvT7jz",
        "colab_type": "code",
        "colab": {}
      },
      "source": [
        "# Mengganti nilai label Churn menjadi Yes\n",
        "dataset['Churn'] = dataset['Churn'].replace('Churn', 'Yes')"
      ],
      "execution_count": 15,
      "outputs": []
    },
    {
      "cell_type": "code",
      "metadata": {
        "id": "gduLmkGmUNWB",
        "colab_type": "code",
        "colab": {}
      },
      "source": [
        "# Menghapus data yang atribut churn nya hilang/missing\n",
        "dataset = dataset.dropna()"
      ],
      "execution_count": 16,
      "outputs": []
    },
    {
      "cell_type": "code",
      "metadata": {
        "id": "DVt8Bfq-WI1I",
        "colab_type": "code",
        "colab": {
          "base_uri": "https://localhost:8080/",
          "height": 408
        },
        "outputId": "8abbba91-68ea-4729-c687-7262308572bd"
      },
      "source": [
        "# Melihat kembali apakah missing value masih ada atau tidak\n",
        "dataset.isna().sum()"
      ],
      "execution_count": 17,
      "outputs": [
        {
          "output_type": "execute_result",
          "data": {
            "text/plain": [
              "UpdatedAt           0\n",
              "customerID          0\n",
              "gender              0\n",
              "SeniorCitizen       0\n",
              "Partner             0\n",
              "Dependents          0\n",
              "tenure              0\n",
              "PhoneService        0\n",
              "MultipleLines       0\n",
              "InternetService     0\n",
              "OnlineSecurity      0\n",
              "OnlineBackup        0\n",
              "DeviceProtection    0\n",
              "TechSupport         0\n",
              "StreamingTV         0\n",
              "StreamingMovies     0\n",
              "Contract            0\n",
              "PaperlessBilling    0\n",
              "PaymentMethod       0\n",
              "MonthlyCharges      0\n",
              "TotalCharges        0\n",
              "Churn               0\n",
              "dtype: int64"
            ]
          },
          "metadata": {
            "tags": []
          },
          "execution_count": 17
        }
      ]
    },
    {
      "cell_type": "markdown",
      "metadata": {
        "id": "JfKW4MsrQewn",
        "colab_type": "text"
      },
      "source": [
        "# c. Mengatasi Outliers\n",
        "Outliers merupakan nilai diluar Q3 dan Q1. Untuk mengatasi outliers ada banyak cara salah satunya menggunakan imputasi seperti yang kita gunakan sebelumnya. Atribut yang memiliki outliers adalah atribut dengan nilai kontinue seperti MonthlyCharges, TotalCharges dan tenure. Pada contoh ini akan digunakan nilai max dan min untuk mengganti nilai outliers."
      ]
    },
    {
      "cell_type": "code",
      "metadata": {
        "id": "9dLjzAviWg7e",
        "colab_type": "code",
        "colab": {
          "base_uri": "https://localhost:8080/",
          "height": 153
        },
        "outputId": "bf994baf-afd9-4c0e-e59e-94c345f96936"
      },
      "source": [
        "# Get Maximum and Minimum value\n",
        "Q1 = (dataset[['tenure', 'TotalCharges', 'MonthlyCharges']]).quantile(0.25)\n",
        "Q3 = (dataset[['tenure', 'TotalCharges', 'MonthlyCharges']]).quantile(0.75)\n",
        "\n",
        "IQR = Q3 - Q1\n",
        "maximum = Q3 + (1.5 * IQR)\n",
        "print(\"Nilai maksimum dari masing-masing variabel : \", maximum)\n",
        "minimum = Q1 - (1.5 * IQR)\n",
        "print(\"Nilai minimum dari masing-masing variabel : \", minimum)"
      ],
      "execution_count": 18,
      "outputs": [
        {
          "output_type": "stream",
          "text": [
            "Nilai maksimum dari masing-masing variabel :  tenure             124.00000\n",
            "TotalCharges      8861.06875\n",
            "MonthlyCharges     169.93125\n",
            "dtype: float64\n",
            "Nilai minimum dari masing-masing variabel :  tenure             -60.00000\n",
            "TotalCharges     -4667.38125\n",
            "MonthlyCharges     -43.61875\n",
            "dtype: float64\n"
          ],
          "name": "stdout"
        }
      ]
    },
    {
      "cell_type": "code",
      "metadata": {
        "id": "a2Z2qtPgac1Q",
        "colab_type": "code",
        "colab": {}
      },
      "source": [
        "# Delete Outliers\n",
        "more_than = (dataset > maximum)\n",
        "lower_than = (dataset < minimum)\n",
        "\n",
        "dataset = dataset.mask(more_than, maximum, axis=1)\n",
        "dataset = dataset.mask(lower_than, minimum, axis=1)"
      ],
      "execution_count": 19,
      "outputs": []
    },
    {
      "cell_type": "code",
      "metadata": {
        "id": "6HN01S63l-b5",
        "colab_type": "code",
        "colab": {
          "base_uri": "https://localhost:8080/",
          "height": 331
        },
        "outputId": "ebb65e5f-1788-431d-ecd1-b2aeb25a38e2"
      },
      "source": [
        "# Melihat kembali hasilnya\n",
        "fig, axs = plt.subplots(3)\n",
        "fig.suptitle('Boxplot')\n",
        "sns.boxplot(x=dataset['tenure'], ax=axs[0])\n",
        "sns.boxplot(x=dataset['MonthlyCharges'], ax=axs[1])\n",
        "sns.boxplot(x=dataset['TotalCharges'], ax=axs[2])"
      ],
      "execution_count": 20,
      "outputs": [
        {
          "output_type": "execute_result",
          "data": {
            "text/plain": [
              "<matplotlib.axes._subplots.AxesSubplot at 0x7f135e936470>"
            ]
          },
          "metadata": {
            "tags": []
          },
          "execution_count": 20
        },
        {
          "output_type": "display_data",
          "data": {
            "image/png": "[encoded data removed]",
            "text/plain": [
              "<Figure size 432x288 with 3 Axes>"
            ]
          },
          "metadata": {
            "tags": []
          }
        }
      ]
    },
    {
      "cell_type": "markdown",
      "metadata": {
        "id": "J1ei0CTQmmny",
        "colab_type": "text"
      },
      "source": [
        "## d. Mengatasi nilai tidak konsisten/standarisasi\n",
        "Mengubah value yang tidak sesuai dengan standar yang dijelaskan pada detail dataset."
      ]
    },
    {
      "cell_type": "code",
      "metadata": {
        "id": "_5u-ZBC_mXL4",
        "colab_type": "code",
        "colab": {
          "base_uri": "https://localhost:8080/",
          "height": 102
        },
        "outputId": "49604e03-768a-4962-9e22-22abb831907f"
      },
      "source": [
        "# Melihat value pada atribut gender\n",
        "dataset['gender'].value_counts()"
      ],
      "execution_count": 21,
      "outputs": [
        {
          "output_type": "execute_result",
          "data": {
            "text/plain": [
              "Male         3501\n",
              "Female       3429\n",
              "Wanita         14\n",
              "Laki-Laki       6\n",
              "Name: gender, dtype: int64"
            ]
          },
          "metadata": {
            "tags": []
          },
          "execution_count": 21
        }
      ]
    },
    {
      "cell_type": "code",
      "metadata": {
        "id": "Xd_dZ999m0G-",
        "colab_type": "code",
        "colab": {
          "base_uri": "https://localhost:8080/",
          "height": 85
        },
        "outputId": "d5e2be37-87f3-4b81-9ce1-60b2fcfbb054"
      },
      "source": [
        "# Melihat value pada atribut Dependents\n",
        "dataset['Dependents'].value_counts()"
      ],
      "execution_count": 22,
      "outputs": [
        {
          "output_type": "execute_result",
          "data": {
            "text/plain": [
              "No     4872\n",
              "Yes    2058\n",
              "Iya      20\n",
              "Name: Dependents, dtype: int64"
            ]
          },
          "metadata": {
            "tags": []
          },
          "execution_count": 22
        }
      ]
    },
    {
      "cell_type": "code",
      "metadata": {
        "id": "sgPkX8FTnM--",
        "colab_type": "code",
        "colab": {}
      },
      "source": [
        "# Standarisasi nilai\n",
        "dataset['gender'] = dataset['gender'].replace('Wanita', 'Female')\n",
        "dataset['gender'] = dataset['gender'].replace('Laki-Laki', 'Male')\n",
        "dataset['Dependents'] = dataset['Dependents'].replace('Iya', 'Yes')"
      ],
      "execution_count": 23,
      "outputs": []
    },
    {
      "cell_type": "markdown",
      "metadata": {
        "id": "WNnPOyrcoN0I",
        "colab_type": "text"
      },
      "source": [
        "# Hasil dataset yang sudah dilakukan data cleaning"
      ]
    },
    {
      "cell_type": "code",
      "metadata": {
        "id": "NPAvzq-coCku",
        "colab_type": "code",
        "colab": {
          "base_uri": "https://localhost:8080/",
          "height": 292
        },
        "outputId": "0918a42a-2fea-46ae-b809-85075837e348"
      },
      "source": [
        "# Data\n",
        "dataset.head()"
      ],
      "execution_count": 24,
      "outputs": [
        {
          "output_type": "execute_result",
          "data": {
            "text/html": [
              "<div>\n",
              "<style scoped>\n",
              "    .dataframe tbody tr th:only-of-type {\n",
              "        vertical-align: middle;\n",
              "    }\n",
              "\n",
              "    .dataframe tbody tr th {\n",
              "        vertical-align: top;\n",
              "    }\n",
              "\n",
              "    .dataframe thead th {\n",
              "        text-align: right;\n",
              "    }\n",
              "</style>\n",
              "<table border=\"1\" class=\"dataframe\">\n",
              "  <thead>\n",
              "    <tr style=\"text-align: right;\">\n",
              "      <th></th>\n",
              "      <th>UpdatedAt</th>\n",
              "      <th>customerID</th>\n",
              "      <th>gender</th>\n",
              "      <th>SeniorCitizen</th>\n",
              "      <th>Partner</th>\n",
              "      <th>Dependents</th>\n",
              "      <th>tenure</th>\n",
              "      <th>PhoneService</th>\n",
              "      <th>MultipleLines</th>\n",
              "      <th>InternetService</th>\n",
              "      <th>OnlineSecurity</th>\n",
              "      <th>OnlineBackup</th>\n",
              "      <th>DeviceProtection</th>\n",
              "      <th>TechSupport</th>\n",
              "      <th>StreamingTV</th>\n",
              "      <th>StreamingMovies</th>\n",
              "      <th>Contract</th>\n",
              "      <th>PaperlessBilling</th>\n",
              "      <th>PaymentMethod</th>\n",
              "      <th>MonthlyCharges</th>\n",
              "      <th>TotalCharges</th>\n",
              "      <th>Churn</th>\n",
              "    </tr>\n",
              "  </thead>\n",
              "  <tbody>\n",
              "    <tr>\n",
              "      <th>0</th>\n",
              "      <td>202006</td>\n",
              "      <td>45759018157</td>\n",
              "      <td>Female</td>\n",
              "      <td>0</td>\n",
              "      <td>Yes</td>\n",
              "      <td>No</td>\n",
              "      <td>1.0</td>\n",
              "      <td>No</td>\n",
              "      <td>No phone service</td>\n",
              "      <td>DSL</td>\n",
              "      <td>No</td>\n",
              "      <td>Yes</td>\n",
              "      <td>No</td>\n",
              "      <td>No</td>\n",
              "      <td>No</td>\n",
              "      <td>No</td>\n",
              "      <td>Month-to-month</td>\n",
              "      <td>Yes</td>\n",
              "      <td>Electronic check</td>\n",
              "      <td>29.85</td>\n",
              "      <td>29.85</td>\n",
              "      <td>No</td>\n",
              "    </tr>\n",
              "    <tr>\n",
              "      <th>1</th>\n",
              "      <td>202006</td>\n",
              "      <td>45557574145</td>\n",
              "      <td>Male</td>\n",
              "      <td>0</td>\n",
              "      <td>No</td>\n",
              "      <td>No</td>\n",
              "      <td>34.0</td>\n",
              "      <td>Yes</td>\n",
              "      <td>No</td>\n",
              "      <td>DSL</td>\n",
              "      <td>Yes</td>\n",
              "      <td>No</td>\n",
              "      <td>Yes</td>\n",
              "      <td>No</td>\n",
              "      <td>No</td>\n",
              "      <td>No</td>\n",
              "      <td>One year</td>\n",
              "      <td>No</td>\n",
              "      <td>Mailed check</td>\n",
              "      <td>56.95</td>\n",
              "      <td>1889.50</td>\n",
              "      <td>No</td>\n",
              "    </tr>\n",
              "    <tr>\n",
              "      <th>2</th>\n",
              "      <td>202006</td>\n",
              "      <td>45366876421</td>\n",
              "      <td>Male</td>\n",
              "      <td>0</td>\n",
              "      <td>No</td>\n",
              "      <td>No</td>\n",
              "      <td>2.0</td>\n",
              "      <td>Yes</td>\n",
              "      <td>No</td>\n",
              "      <td>DSL</td>\n",
              "      <td>Yes</td>\n",
              "      <td>Yes</td>\n",
              "      <td>No</td>\n",
              "      <td>No</td>\n",
              "      <td>No</td>\n",
              "      <td>No</td>\n",
              "      <td>Month-to-month</td>\n",
              "      <td>Yes</td>\n",
              "      <td>Mailed check</td>\n",
              "      <td>53.85</td>\n",
              "      <td>108.15</td>\n",
              "      <td>Yes</td>\n",
              "    </tr>\n",
              "    <tr>\n",
              "      <th>3</th>\n",
              "      <td>202006</td>\n",
              "      <td>45779536532</td>\n",
              "      <td>Male</td>\n",
              "      <td>0</td>\n",
              "      <td>No</td>\n",
              "      <td>No</td>\n",
              "      <td>45.0</td>\n",
              "      <td>No</td>\n",
              "      <td>No phone service</td>\n",
              "      <td>DSL</td>\n",
              "      <td>Yes</td>\n",
              "      <td>No</td>\n",
              "      <td>Yes</td>\n",
              "      <td>Yes</td>\n",
              "      <td>No</td>\n",
              "      <td>No</td>\n",
              "      <td>One year</td>\n",
              "      <td>No</td>\n",
              "      <td>Bank transfer (automatic)</td>\n",
              "      <td>42.30</td>\n",
              "      <td>1840.75</td>\n",
              "      <td>No</td>\n",
              "    </tr>\n",
              "    <tr>\n",
              "      <th>4</th>\n",
              "      <td>202006</td>\n",
              "      <td>45923787906</td>\n",
              "      <td>Female</td>\n",
              "      <td>0</td>\n",
              "      <td>No</td>\n",
              "      <td>No</td>\n",
              "      <td>2.0</td>\n",
              "      <td>Yes</td>\n",
              "      <td>No</td>\n",
              "      <td>Fiber optic</td>\n",
              "      <td>No</td>\n",
              "      <td>No</td>\n",
              "      <td>No</td>\n",
              "      <td>No</td>\n",
              "      <td>No</td>\n",
              "      <td>No</td>\n",
              "      <td>Month-to-month</td>\n",
              "      <td>Yes</td>\n",
              "      <td>Electronic check</td>\n",
              "      <td>70.70</td>\n",
              "      <td>151.65</td>\n",
              "      <td>Yes</td>\n",
              "    </tr>\n",
              "  </tbody>\n",
              "</table>\n",
              "</div>"
            ],
            "text/plain": [
              "   UpdatedAt   customerID  gender  ...  MonthlyCharges TotalCharges Churn\n",
              "0     202006  45759018157  Female  ...           29.85        29.85    No\n",
              "1     202006  45557574145    Male  ...           56.95      1889.50    No\n",
              "2     202006  45366876421    Male  ...           53.85       108.15   Yes\n",
              "3     202006  45779536532    Male  ...           42.30      1840.75    No\n",
              "4     202006  45923787906  Female  ...           70.70       151.65   Yes\n",
              "\n",
              "[5 rows x 22 columns]"
            ]
          },
          "metadata": {
            "tags": []
          },
          "execution_count": 24
        }
      ]
    },
    {
      "cell_type": "code",
      "metadata": {
        "id": "w8w_kbyroWEJ",
        "colab_type": "code",
        "colab": {
          "base_uri": "https://localhost:8080/",
          "height": 34
        },
        "outputId": "d3cebc91-0d05-4bde-c2ad-9b53d8054c60"
      },
      "source": [
        "# Shape Data\n",
        "dataset.shape"
      ],
      "execution_count": 25,
      "outputs": [
        {
          "output_type": "execute_result",
          "data": {
            "text/plain": [
              "(6950, 22)"
            ]
          },
          "metadata": {
            "tags": []
          },
          "execution_count": 25
        }
      ]
    },
    {
      "cell_type": "code",
      "metadata": {
        "id": "LQzAYZ3zobT0",
        "colab_type": "code",
        "colab": {}
      },
      "source": [
        ""
      ],
      "execution_count": 25,
      "outputs": []
    }
  ]
}